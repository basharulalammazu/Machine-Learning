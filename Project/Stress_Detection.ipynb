{
  "nbformat": 4,
  "nbformat_minor": 0,
  "metadata": {
    "colab": {
      "provenance": []
    },
    "kernelspec": {
      "name": "python3",
      "display_name": "Python 3"
    },
    "language_info": {
      "name": "python"
    }
  },
  "cells": [
    {
      "cell_type": "code",
      "source": [
        "# Import libraries\n",
        "import numpy as np\n",
        "import pandas as pd\n",
        "import seaborn as sns\n",
        "import matplotlib.pyplot as plt\n",
        "from sklearn.model_selection import train_test_split\n",
        "from sklearn.ensemble import RandomForestClassifier\n",
        "from sklearn.svm import SVC\n",
        "from sklearn.linear_model import LogisticRegression\n",
        "from sklearn.metrics import accuracy_score, classification_report, confusion_matrix\n",
        "from xgboost import XGBClassifier\n",
        "from sklearn.preprocessing import StandardScaler\n",
        "from sklearn.preprocessing import LabelEncoder\n",
        "from sklearn.cluster import KMeans\n",
        "from scipy.stats import mode"
      ],
      "metadata": {
        "id": "4_hzb7yrxr0S"
      },
      "execution_count": 186,
      "outputs": []
    },
    {
      "cell_type": "code",
      "source": [
        "# Mount Google Drive\n",
        "from google.colab import drive\n",
        "drive.mount('/content/drive')"
      ],
      "metadata": {
        "colab": {
          "base_uri": "https://localhost:8080/"
        },
        "id": "nZYs4X8-xyjD",
        "outputId": "f443c958-a64f-44b6-da51-e730ac4a71b8"
      },
      "execution_count": 187,
      "outputs": [
        {
          "output_type": "stream",
          "name": "stdout",
          "text": [
            "Drive already mounted at /content/drive; to attempt to forcibly remount, call drive.mount(\"/content/drive\", force_remount=True).\n"
          ]
        }
      ]
    },
    {
      "cell_type": "code",
      "source": [
        "# Load the dataset\n",
        "path = '/content/drive/My Drive/University/Final Project/dataset.csv'\n",
        "initial_data = pd.read_csv(path)"
      ],
      "metadata": {
        "id": "8S4SD-gTx2QF"
      },
      "execution_count": 191,
      "outputs": []
    },
    {
      "cell_type": "code",
      "source": [
        "# Drop unnecessary columns\n",
        "mydata = initial_data.drop(['Person ID', 'Occupation', 'Sleep Disorder'], axis=1, errors='ignore')"
      ],
      "metadata": {
        "id": "t4oHEmqvSN8X"
      },
      "execution_count": 192,
      "outputs": []
    },
    {
      "cell_type": "code",
      "source": [
        "# Display the cleaned data\n",
        "print(\"Cleaned Data:\")\n",
        "mydata.head()"
      ],
      "metadata": {
        "colab": {
          "base_uri": "https://localhost:8080/",
          "height": 224
        },
        "id": "8CJwOdj6SQvw",
        "outputId": "77505514-06c3-4273-e8a1-8d3500b8f4d4"
      },
      "execution_count": 193,
      "outputs": [
        {
          "output_type": "stream",
          "name": "stdout",
          "text": [
            "Cleaned Data:\n"
          ]
        },
        {
          "output_type": "execute_result",
          "data": {
            "text/plain": [
              "  Gender  Age  Sleep Duration  Quality of Sleep  Physical Activity Level  \\\n",
              "0   Male   27             6.1                 6                       42   \n",
              "1   Male   28             6.2                 6                       60   \n",
              "2   Male   28             6.2                 6                       60   \n",
              "3   Male   28             5.9                 4                       30   \n",
              "4   Male   28             5.9                 4                       30   \n",
              "\n",
              "   Stress Level BMI Category Blood Pressure  Heart Rate  Daily Steps  \n",
              "0             6   Overweight         126/83          77         4200  \n",
              "1             8       Normal         125/80          75        10000  \n",
              "2             8       Normal         125/80          75        10000  \n",
              "3             8        Obese         140/90          85         3000  \n",
              "4             8        Obese         140/90          85         3000  "
            ],
            "text/html": [
              "\n",
              "  <div id=\"df-89327514-95cd-495a-92b1-518f371d7997\" class=\"colab-df-container\">\n",
              "    <div>\n",
              "<style scoped>\n",
              "    .dataframe tbody tr th:only-of-type {\n",
              "        vertical-align: middle;\n",
              "    }\n",
              "\n",
              "    .dataframe tbody tr th {\n",
              "        vertical-align: top;\n",
              "    }\n",
              "\n",
              "    .dataframe thead th {\n",
              "        text-align: right;\n",
              "    }\n",
              "</style>\n",
              "<table border=\"1\" class=\"dataframe\">\n",
              "  <thead>\n",
              "    <tr style=\"text-align: right;\">\n",
              "      <th></th>\n",
              "      <th>Gender</th>\n",
              "      <th>Age</th>\n",
              "      <th>Sleep Duration</th>\n",
              "      <th>Quality of Sleep</th>\n",
              "      <th>Physical Activity Level</th>\n",
              "      <th>Stress Level</th>\n",
              "      <th>BMI Category</th>\n",
              "      <th>Blood Pressure</th>\n",
              "      <th>Heart Rate</th>\n",
              "      <th>Daily Steps</th>\n",
              "    </tr>\n",
              "  </thead>\n",
              "  <tbody>\n",
              "    <tr>\n",
              "      <th>0</th>\n",
              "      <td>Male</td>\n",
              "      <td>27</td>\n",
              "      <td>6.1</td>\n",
              "      <td>6</td>\n",
              "      <td>42</td>\n",
              "      <td>6</td>\n",
              "      <td>Overweight</td>\n",
              "      <td>126/83</td>\n",
              "      <td>77</td>\n",
              "      <td>4200</td>\n",
              "    </tr>\n",
              "    <tr>\n",
              "      <th>1</th>\n",
              "      <td>Male</td>\n",
              "      <td>28</td>\n",
              "      <td>6.2</td>\n",
              "      <td>6</td>\n",
              "      <td>60</td>\n",
              "      <td>8</td>\n",
              "      <td>Normal</td>\n",
              "      <td>125/80</td>\n",
              "      <td>75</td>\n",
              "      <td>10000</td>\n",
              "    </tr>\n",
              "    <tr>\n",
              "      <th>2</th>\n",
              "      <td>Male</td>\n",
              "      <td>28</td>\n",
              "      <td>6.2</td>\n",
              "      <td>6</td>\n",
              "      <td>60</td>\n",
              "      <td>8</td>\n",
              "      <td>Normal</td>\n",
              "      <td>125/80</td>\n",
              "      <td>75</td>\n",
              "      <td>10000</td>\n",
              "    </tr>\n",
              "    <tr>\n",
              "      <th>3</th>\n",
              "      <td>Male</td>\n",
              "      <td>28</td>\n",
              "      <td>5.9</td>\n",
              "      <td>4</td>\n",
              "      <td>30</td>\n",
              "      <td>8</td>\n",
              "      <td>Obese</td>\n",
              "      <td>140/90</td>\n",
              "      <td>85</td>\n",
              "      <td>3000</td>\n",
              "    </tr>\n",
              "    <tr>\n",
              "      <th>4</th>\n",
              "      <td>Male</td>\n",
              "      <td>28</td>\n",
              "      <td>5.9</td>\n",
              "      <td>4</td>\n",
              "      <td>30</td>\n",
              "      <td>8</td>\n",
              "      <td>Obese</td>\n",
              "      <td>140/90</td>\n",
              "      <td>85</td>\n",
              "      <td>3000</td>\n",
              "    </tr>\n",
              "  </tbody>\n",
              "</table>\n",
              "</div>\n",
              "    <div class=\"colab-df-buttons\">\n",
              "\n",
              "  <div class=\"colab-df-container\">\n",
              "    <button class=\"colab-df-convert\" onclick=\"convertToInteractive('df-89327514-95cd-495a-92b1-518f371d7997')\"\n",
              "            title=\"Convert this dataframe to an interactive table.\"\n",
              "            style=\"display:none;\">\n",
              "\n",
              "  <svg xmlns=\"http://www.w3.org/2000/svg\" height=\"24px\" viewBox=\"0 -960 960 960\">\n",
              "    <path d=\"M120-120v-720h720v720H120Zm60-500h600v-160H180v160Zm220 220h160v-160H400v160Zm0 220h160v-160H400v160ZM180-400h160v-160H180v160Zm440 0h160v-160H620v160ZM180-180h160v-160H180v160Zm440 0h160v-160H620v160Z\"/>\n",
              "  </svg>\n",
              "    </button>\n",
              "\n",
              "  <style>\n",
              "    .colab-df-container {\n",
              "      display:flex;\n",
              "      gap: 12px;\n",
              "    }\n",
              "\n",
              "    .colab-df-convert {\n",
              "      background-color: #E8F0FE;\n",
              "      border: none;\n",
              "      border-radius: 50%;\n",
              "      cursor: pointer;\n",
              "      display: none;\n",
              "      fill: #1967D2;\n",
              "      height: 32px;\n",
              "      padding: 0 0 0 0;\n",
              "      width: 32px;\n",
              "    }\n",
              "\n",
              "    .colab-df-convert:hover {\n",
              "      background-color: #E2EBFA;\n",
              "      box-shadow: 0px 1px 2px rgba(60, 64, 67, 0.3), 0px 1px 3px 1px rgba(60, 64, 67, 0.15);\n",
              "      fill: #174EA6;\n",
              "    }\n",
              "\n",
              "    .colab-df-buttons div {\n",
              "      margin-bottom: 4px;\n",
              "    }\n",
              "\n",
              "    [theme=dark] .colab-df-convert {\n",
              "      background-color: #3B4455;\n",
              "      fill: #D2E3FC;\n",
              "    }\n",
              "\n",
              "    [theme=dark] .colab-df-convert:hover {\n",
              "      background-color: #434B5C;\n",
              "      box-shadow: 0px 1px 3px 1px rgba(0, 0, 0, 0.15);\n",
              "      filter: drop-shadow(0px 1px 2px rgba(0, 0, 0, 0.3));\n",
              "      fill: #FFFFFF;\n",
              "    }\n",
              "  </style>\n",
              "\n",
              "    <script>\n",
              "      const buttonEl =\n",
              "        document.querySelector('#df-89327514-95cd-495a-92b1-518f371d7997 button.colab-df-convert');\n",
              "      buttonEl.style.display =\n",
              "        google.colab.kernel.accessAllowed ? 'block' : 'none';\n",
              "\n",
              "      async function convertToInteractive(key) {\n",
              "        const element = document.querySelector('#df-89327514-95cd-495a-92b1-518f371d7997');\n",
              "        const dataTable =\n",
              "          await google.colab.kernel.invokeFunction('convertToInteractive',\n",
              "                                                    [key], {});\n",
              "        if (!dataTable) return;\n",
              "\n",
              "        const docLinkHtml = 'Like what you see? Visit the ' +\n",
              "          '<a target=\"_blank\" href=https://colab.research.google.com/notebooks/data_table.ipynb>data table notebook</a>'\n",
              "          + ' to learn more about interactive tables.';\n",
              "        element.innerHTML = '';\n",
              "        dataTable['output_type'] = 'display_data';\n",
              "        await google.colab.output.renderOutput(dataTable, element);\n",
              "        const docLink = document.createElement('div');\n",
              "        docLink.innerHTML = docLinkHtml;\n",
              "        element.appendChild(docLink);\n",
              "      }\n",
              "    </script>\n",
              "  </div>\n",
              "\n",
              "\n",
              "<div id=\"df-e92c416f-9401-4eeb-a977-3281ba8ca50e\">\n",
              "  <button class=\"colab-df-quickchart\" onclick=\"quickchart('df-e92c416f-9401-4eeb-a977-3281ba8ca50e')\"\n",
              "            title=\"Suggest charts\"\n",
              "            style=\"display:none;\">\n",
              "\n",
              "<svg xmlns=\"http://www.w3.org/2000/svg\" height=\"24px\"viewBox=\"0 0 24 24\"\n",
              "     width=\"24px\">\n",
              "    <g>\n",
              "        <path d=\"M19 3H5c-1.1 0-2 .9-2 2v14c0 1.1.9 2 2 2h14c1.1 0 2-.9 2-2V5c0-1.1-.9-2-2-2zM9 17H7v-7h2v7zm4 0h-2V7h2v10zm4 0h-2v-4h2v4z\"/>\n",
              "    </g>\n",
              "</svg>\n",
              "  </button>\n",
              "\n",
              "<style>\n",
              "  .colab-df-quickchart {\n",
              "      --bg-color: #E8F0FE;\n",
              "      --fill-color: #1967D2;\n",
              "      --hover-bg-color: #E2EBFA;\n",
              "      --hover-fill-color: #174EA6;\n",
              "      --disabled-fill-color: #AAA;\n",
              "      --disabled-bg-color: #DDD;\n",
              "  }\n",
              "\n",
              "  [theme=dark] .colab-df-quickchart {\n",
              "      --bg-color: #3B4455;\n",
              "      --fill-color: #D2E3FC;\n",
              "      --hover-bg-color: #434B5C;\n",
              "      --hover-fill-color: #FFFFFF;\n",
              "      --disabled-bg-color: #3B4455;\n",
              "      --disabled-fill-color: #666;\n",
              "  }\n",
              "\n",
              "  .colab-df-quickchart {\n",
              "    background-color: var(--bg-color);\n",
              "    border: none;\n",
              "    border-radius: 50%;\n",
              "    cursor: pointer;\n",
              "    display: none;\n",
              "    fill: var(--fill-color);\n",
              "    height: 32px;\n",
              "    padding: 0;\n",
              "    width: 32px;\n",
              "  }\n",
              "\n",
              "  .colab-df-quickchart:hover {\n",
              "    background-color: var(--hover-bg-color);\n",
              "    box-shadow: 0 1px 2px rgba(60, 64, 67, 0.3), 0 1px 3px 1px rgba(60, 64, 67, 0.15);\n",
              "    fill: var(--button-hover-fill-color);\n",
              "  }\n",
              "\n",
              "  .colab-df-quickchart-complete:disabled,\n",
              "  .colab-df-quickchart-complete:disabled:hover {\n",
              "    background-color: var(--disabled-bg-color);\n",
              "    fill: var(--disabled-fill-color);\n",
              "    box-shadow: none;\n",
              "  }\n",
              "\n",
              "  .colab-df-spinner {\n",
              "    border: 2px solid var(--fill-color);\n",
              "    border-color: transparent;\n",
              "    border-bottom-color: var(--fill-color);\n",
              "    animation:\n",
              "      spin 1s steps(1) infinite;\n",
              "  }\n",
              "\n",
              "  @keyframes spin {\n",
              "    0% {\n",
              "      border-color: transparent;\n",
              "      border-bottom-color: var(--fill-color);\n",
              "      border-left-color: var(--fill-color);\n",
              "    }\n",
              "    20% {\n",
              "      border-color: transparent;\n",
              "      border-left-color: var(--fill-color);\n",
              "      border-top-color: var(--fill-color);\n",
              "    }\n",
              "    30% {\n",
              "      border-color: transparent;\n",
              "      border-left-color: var(--fill-color);\n",
              "      border-top-color: var(--fill-color);\n",
              "      border-right-color: var(--fill-color);\n",
              "    }\n",
              "    40% {\n",
              "      border-color: transparent;\n",
              "      border-right-color: var(--fill-color);\n",
              "      border-top-color: var(--fill-color);\n",
              "    }\n",
              "    60% {\n",
              "      border-color: transparent;\n",
              "      border-right-color: var(--fill-color);\n",
              "    }\n",
              "    80% {\n",
              "      border-color: transparent;\n",
              "      border-right-color: var(--fill-color);\n",
              "      border-bottom-color: var(--fill-color);\n",
              "    }\n",
              "    90% {\n",
              "      border-color: transparent;\n",
              "      border-bottom-color: var(--fill-color);\n",
              "    }\n",
              "  }\n",
              "</style>\n",
              "\n",
              "  <script>\n",
              "    async function quickchart(key) {\n",
              "      const quickchartButtonEl =\n",
              "        document.querySelector('#' + key + ' button');\n",
              "      quickchartButtonEl.disabled = true;  // To prevent multiple clicks.\n",
              "      quickchartButtonEl.classList.add('colab-df-spinner');\n",
              "      try {\n",
              "        const charts = await google.colab.kernel.invokeFunction(\n",
              "            'suggestCharts', [key], {});\n",
              "      } catch (error) {\n",
              "        console.error('Error during call to suggestCharts:', error);\n",
              "      }\n",
              "      quickchartButtonEl.classList.remove('colab-df-spinner');\n",
              "      quickchartButtonEl.classList.add('colab-df-quickchart-complete');\n",
              "    }\n",
              "    (() => {\n",
              "      let quickchartButtonEl =\n",
              "        document.querySelector('#df-e92c416f-9401-4eeb-a977-3281ba8ca50e button');\n",
              "      quickchartButtonEl.style.display =\n",
              "        google.colab.kernel.accessAllowed ? 'block' : 'none';\n",
              "    })();\n",
              "  </script>\n",
              "</div>\n",
              "\n",
              "    </div>\n",
              "  </div>\n"
            ],
            "application/vnd.google.colaboratory.intrinsic+json": {
              "type": "dataframe",
              "variable_name": "mydata",
              "summary": "{\n  \"name\": \"mydata\",\n  \"rows\": 374,\n  \"fields\": [\n    {\n      \"column\": \"Gender\",\n      \"properties\": {\n        \"dtype\": \"category\",\n        \"num_unique_values\": 2,\n        \"samples\": [\n          \"Female\",\n          \"Male\"\n        ],\n        \"semantic_type\": \"\",\n        \"description\": \"\"\n      }\n    },\n    {\n      \"column\": \"Age\",\n      \"properties\": {\n        \"dtype\": \"number\",\n        \"std\": 8,\n        \"min\": 27,\n        \"max\": 59,\n        \"num_unique_values\": 31,\n        \"samples\": [\n          56,\n          42\n        ],\n        \"semantic_type\": \"\",\n        \"description\": \"\"\n      }\n    },\n    {\n      \"column\": \"Sleep Duration\",\n      \"properties\": {\n        \"dtype\": \"number\",\n        \"std\": 0.7956567308898188,\n        \"min\": 5.8,\n        \"max\": 8.5,\n        \"num_unique_values\": 27,\n        \"samples\": [\n          7.7,\n          5.8\n        ],\n        \"semantic_type\": \"\",\n        \"description\": \"\"\n      }\n    },\n    {\n      \"column\": \"Quality of Sleep\",\n      \"properties\": {\n        \"dtype\": \"number\",\n        \"std\": 1,\n        \"min\": 4,\n        \"max\": 9,\n        \"num_unique_values\": 6,\n        \"samples\": [\n          6,\n          4\n        ],\n        \"semantic_type\": \"\",\n        \"description\": \"\"\n      }\n    },\n    {\n      \"column\": \"Physical Activity Level\",\n      \"properties\": {\n        \"dtype\": \"number\",\n        \"std\": 20,\n        \"min\": 30,\n        \"max\": 90,\n        \"num_unique_values\": 16,\n        \"samples\": [\n          42,\n          60\n        ],\n        \"semantic_type\": \"\",\n        \"description\": \"\"\n      }\n    },\n    {\n      \"column\": \"Stress Level\",\n      \"properties\": {\n        \"dtype\": \"number\",\n        \"std\": 1,\n        \"min\": 3,\n        \"max\": 8,\n        \"num_unique_values\": 6,\n        \"samples\": [\n          6,\n          8\n        ],\n        \"semantic_type\": \"\",\n        \"description\": \"\"\n      }\n    },\n    {\n      \"column\": \"BMI Category\",\n      \"properties\": {\n        \"dtype\": \"category\",\n        \"num_unique_values\": 4,\n        \"samples\": [\n          \"Normal\",\n          \"Normal Weight\"\n        ],\n        \"semantic_type\": \"\",\n        \"description\": \"\"\n      }\n    },\n    {\n      \"column\": \"Blood Pressure\",\n      \"properties\": {\n        \"dtype\": \"category\",\n        \"num_unique_values\": 25,\n        \"samples\": [\n          \"128/85\",\n          \"119/77\"\n        ],\n        \"semantic_type\": \"\",\n        \"description\": \"\"\n      }\n    },\n    {\n      \"column\": \"Heart Rate\",\n      \"properties\": {\n        \"dtype\": \"number\",\n        \"std\": 4,\n        \"min\": 65,\n        \"max\": 86,\n        \"num_unique_values\": 19,\n        \"samples\": [\n          77,\n          80\n        ],\n        \"semantic_type\": \"\",\n        \"description\": \"\"\n      }\n    },\n    {\n      \"column\": \"Daily Steps\",\n      \"properties\": {\n        \"dtype\": \"number\",\n        \"std\": 1617,\n        \"min\": 3000,\n        \"max\": 10000,\n        \"num_unique_values\": 20,\n        \"samples\": [\n          4200,\n          6200\n        ],\n        \"semantic_type\": \"\",\n        \"description\": \"\"\n      }\n    }\n  ]\n}"
            }
          },
          "metadata": {},
          "execution_count": 193
        }
      ]
    },
    {
      "cell_type": "code",
      "source": [
        "# Encode categorical variables\n",
        "X = mydata.drop('Stress Level', axis=1)\n",
        "y = mydata['Stress Level']\n",
        "X = pd.get_dummies(X, drop_first=True)"
      ],
      "metadata": {
        "id": "u24MHZs7SUFc"
      },
      "execution_count": 194,
      "outputs": []
    },
    {
      "cell_type": "code",
      "source": [
        "# Train-test split\n",
        "X_train, X_test, y_train, y_test = train_test_split(X, y, test_size=0.2, random_state=42)"
      ],
      "metadata": {
        "id": "fhgnYQvKSXrz"
      },
      "execution_count": 195,
      "outputs": []
    },
    {
      "cell_type": "code",
      "source": [
        "# Random Forest\n",
        "rf_classifier = RandomForestClassifier(n_estimators=100, random_state=42)\n",
        "rf_classifier.fit(X_train, y_train)\n",
        "rf_pred = rf_classifier.predict(X_test)\n",
        "rf_accuracy = accuracy_score(y_test, rf_pred)"
      ],
      "metadata": {
        "id": "Ardx8XaXSa64"
      },
      "execution_count": 196,
      "outputs": []
    },
    {
      "cell_type": "code",
      "source": [
        "# SVM\n",
        "svm_classifier = SVC(probability=True, kernel='rbf', random_state=42)\n",
        "svm_classifier.fit(X_train, y_train)\n",
        "svm_pred = svm_classifier.predict(X_test)\n",
        "svm_accuracy = accuracy_score(y_test, svm_pred)"
      ],
      "metadata": {
        "id": "2Rk0ENl7Sj4I"
      },
      "execution_count": 197,
      "outputs": []
    },
    {
      "cell_type": "code",
      "source": [
        "# Create a LabelEncoder object\n",
        "label_encoder = LabelEncoder()\n",
        "\n",
        "# Fit the encoder to your target variable and transform it\n",
        "y_train = label_encoder.fit_transform(y_train)\n",
        "y_test = label_encoder.transform(y_test)\n",
        "\n",
        "# XGBoost Classifier\n",
        "xgb_classifier = XGBClassifier(n_estimators=100, learning_rate=0.1, random_state=42, use_label_encoder=False, eval_metric='logloss')\n",
        "xgb_classifier.fit(X_train, y_train)\n",
        "xgb_pred = xgb_classifier.predict(X_test)\n",
        "xgb_accuracy = accuracy_score(y_test, xgb_pred)"
      ],
      "metadata": {
        "colab": {
          "base_uri": "https://localhost:8080/"
        },
        "id": "KIXopJR9Smme",
        "outputId": "a36586e1-ea45-46b7-9bbc-aff497d26a47"
      },
      "execution_count": 198,
      "outputs": [
        {
          "output_type": "stream",
          "name": "stderr",
          "text": [
            "/usr/local/lib/python3.10/dist-packages/xgboost/core.py:158: UserWarning: [16:25:12] WARNING: /workspace/src/learner.cc:740: \n",
            "Parameters: { \"use_label_encoder\" } are not used.\n",
            "\n",
            "  warnings.warn(smsg, UserWarning)\n"
          ]
        }
      ]
    },
    {
      "cell_type": "code",
      "source": [
        "# Logistic Regression\n",
        "logreg_classifier = LogisticRegression(max_iter=1000, random_state=42)\n",
        "logreg_classifier.fit(X_train, y_train)\n",
        "logreg_pred = logreg_classifier.predict(X_test)\n",
        "logreg_accuracy = accuracy_score(y_test, logreg_pred)"
      ],
      "metadata": {
        "colab": {
          "base_uri": "https://localhost:8080/"
        },
        "id": "3mE7jR9tS4Wx",
        "outputId": "e6c19695-c477-46bf-b686-21ebbd3c1c47"
      },
      "execution_count": 199,
      "outputs": [
        {
          "output_type": "stream",
          "name": "stderr",
          "text": [
            "/usr/local/lib/python3.10/dist-packages/sklearn/linear_model/_logistic.py:465: ConvergenceWarning: lbfgs failed to converge (status=1):\n",
            "STOP: TOTAL NO. of ITERATIONS REACHED LIMIT.\n",
            "\n",
            "Increase the number of iterations (max_iter) or scale the data as shown in:\n",
            "    https://scikit-learn.org/stable/modules/preprocessing.html\n",
            "Please also refer to the documentation for alternative solver options:\n",
            "    https://scikit-learn.org/stable/modules/linear_model.html#logistic-regression\n",
            "  n_iter_i = _check_optimize_result(\n"
          ]
        }
      ]
    },
    {
      "cell_type": "code",
      "source": [
        "# KMeans Clustering (for clustering-based prediction)\n",
        "scaler = StandardScaler()\n",
        "# The 'Stress Level' column has already been removed from X.\n",
        "# Use X directly for scaling:\n",
        "X_scaled = scaler.fit_transform(X)\n",
        "kmeans = KMeans(n_clusters=3, random_state=42)\n",
        "kmeans.fit(X_scaled)\n",
        "y_pred = kmeans.predict(X_scaled)\n",
        "accuracy = accuracy_score(y_true, y_pred)"
      ],
      "metadata": {
        "id": "cIExUQi_S8Wi"
      },
      "execution_count": 200,
      "outputs": []
    },
    {
      "cell_type": "code",
      "source": [
        "# Display all model accuracies\n",
        "print(\"\\nModel Accuracies:\")\n",
        "print(f\"Random Forest Accuracy: {rf_accuracy:.2f}\")\n",
        "print(f\"SVM Accuracy: {svm_accuracy:.2f}\")\n",
        "print(f\"XGBoost Accuracy: {xgb_accuracy:.2f}\")\n",
        "print(f\"Logistic Regression Accuracy: {logreg_accuracy:.2f}\")\n",
        "print(f\"KMeans Clustering Accuracy: {accuracy:.2f}\")"
      ],
      "metadata": {
        "colab": {
          "base_uri": "https://localhost:8080/"
        },
        "id": "9yTlvojrgli0",
        "outputId": "0b115ac2-1e6c-4088-cec0-163f045f71d5"
      },
      "execution_count": 201,
      "outputs": [
        {
          "output_type": "stream",
          "name": "stdout",
          "text": [
            "\n",
            "Model Accuracies:\n",
            "Random Forest Accuracy: 1.00\n",
            "SVM Accuracy: 0.41\n",
            "XGBoost Accuracy: 1.00\n",
            "Logistic Regression Accuracy: 0.89\n",
            "KMeans Clustering Accuracy: 0.00\n"
          ]
        }
      ]
    },
    {
      "cell_type": "code",
      "source": [
        "# Define recommendation and action plan functions\n",
        "def content_based_recommendation(stress_level, physical_activity, sleep_quality, bmi, blood_pressure):\n",
        "    if stress_level > 7:\n",
        "        return \"Meditation, Yoga, Reduce screen time, Regular Sleep\"\n",
        "    elif physical_activity < 5:\n",
        "        return \"Increase Physical Activity, Morning Walk, Breathing Exercises\"\n",
        "    elif sleep_quality < 5:\n",
        "        return \"Improve Sleep Hygiene, Avoid Caffeine, Create Sleep Schedule\"\n",
        "    elif bmi > 30:\n",
        "        return \"Consult a nutritionist, Begin a weight loss program\"\n",
        "    elif blood_pressure > 140:\n",
        "        return \"Consult with a healthcare provider for blood pressure management\"\n",
        "    else:\n",
        "        return \"Maintain Current Lifestyle, Stay Positive\""
      ],
      "metadata": {
        "id": "8o0UcXbMTAAz"
      },
      "execution_count": 202,
      "outputs": []
    },
    {
      "cell_type": "code",
      "source": [
        "def suicide_action_plan(stress_level, sleep_quality, physical_activity, daily_steps, bmi, blood_pressure):\n",
        "    # Critical Risk Conditions: Stress level is very high or multiple lifestyle factors are poor\n",
        "    if stress_level > 8 or (\n",
        "        (sleep_quality < 2 and physical_activity < 2 and daily_steps < 1000) or\n",
        "        (bmi > 30 and blood_pressure > 140) or\n",
        "        (sleep_quality < 3 and physical_activity < 3 and daily_steps < 2000)\n",
        "    ):\n",
        "        return \"Critical Risk: Immediate professional intervention is required. Contact mental health professionals and emergency helplines now.\"\n",
        "\n",
        "    # High Risk Conditions: Stress level is high or major lifestyle issues are present\n",
        "    elif stress_level > 7 or ((sleep_quality < 3 and physical_activity < 3) or (bmi > 28 and blood_pressure > 130)):\n",
        "        return \"High Risk: Seek guidance from a licensed psychologist or psychiatrist. Immediate attention is required.\"\n",
        "\n",
        "    # Moderate Risk Conditions: Stress is moderate and some lifestyle factors are suboptimal\n",
        "    elif stress_level > 5 or (\n",
        "        (sleep_quality < 4 and physical_activity < 5) or\n",
        "        (bmi > 25 and blood_pressure > 120)\n",
        "    ):\n",
        "        return \"Moderate Risk: Practice relaxation techniques, mindfulness, and yoga. Consult a counselor to manage stress.\"\n",
        "\n",
        "    # Low Risk Conditions: Stress is low, but lifestyle factors should be maintained\n",
        "    else:\n",
        "        return \"Low Risk: Continue maintaining a balanced lifestyle with adequate sleep, regular physical activity, and social support.\"\n"
      ],
      "metadata": {
        "id": "cQh6tDQMgSpm"
      },
      "execution_count": 203,
      "outputs": []
    },
    {
      "cell_type": "code",
      "source": [
        "print(\"\\nXGBoost Results:\")\n",
        "print(f\"Accuracy: {xgb_accuracy:.2f}\")\n",
        "print(classification_report(y_test, xgb_pred))\n",
        "print(\"\\nConfusion Matrix:\\n\", confusion_matrix(y_test, xgb_pred))"
      ],
      "metadata": {
        "colab": {
          "base_uri": "https://localhost:8080/"
        },
        "id": "1e5O2nF0TDL_",
        "outputId": "af98d6c6-2ff5-4464-a80e-5db06bca0ff2"
      },
      "execution_count": 204,
      "outputs": [
        {
          "output_type": "stream",
          "name": "stdout",
          "text": [
            "\n",
            "XGBoost Results:\n",
            "Accuracy: 1.00\n",
            "              precision    recall  f1-score   support\n",
            "\n",
            "           0       1.00      1.00      1.00        12\n",
            "           1       1.00      1.00      1.00        10\n",
            "           2       1.00      1.00      1.00        14\n",
            "           3       1.00      1.00      1.00        10\n",
            "           4       1.00      1.00      1.00        12\n",
            "           5       1.00      1.00      1.00        17\n",
            "\n",
            "    accuracy                           1.00        75\n",
            "   macro avg       1.00      1.00      1.00        75\n",
            "weighted avg       1.00      1.00      1.00        75\n",
            "\n",
            "\n",
            "Confusion Matrix:\n",
            " [[12  0  0  0  0  0]\n",
            " [ 0 10  0  0  0  0]\n",
            " [ 0  0 14  0  0  0]\n",
            " [ 0  0  0 10  0  0]\n",
            " [ 0  0  0  0 12  0]\n",
            " [ 0  0  0  0  0 17]]\n"
          ]
        }
      ]
    },
    {
      "cell_type": "code",
      "source": [
        "# Function to test a single person's data\n",
        "def test_single_person(gender, age, sleep_duration, physical_activity, bmi, blood_pressure, heart_rate, daily_steps):\n",
        "\n",
        "    # Single input data (Modified to match original dataset structure)\n",
        "    person_data = pd.DataFrame({\n",
        "        'Gender': [gender],\n",
        "        'Age': [age],\n",
        "        'Sleep Duration': [sleep_duration],\n",
        "        'Physical Activity Level': [physical_activity],\n",
        "        'BMI': [bmi],\n",
        "        'Blood Pressure': [blood_pressure],\n",
        "        'Heart Rate': [heart_rate],\n",
        "        'Daily Steps': [daily_steps]\n",
        "    }, index=[0])  # Adding an index to avoid potential issues\n",
        "\n",
        "    # Preprocess person_data to match the format used during training:\n",
        "    # 1. One-hot encode categorical features\n",
        "    person_data = pd.get_dummies(person_data, columns=['Gender'], drop_first=True)\n",
        "\n",
        "    # 2. Ensure all columns from training data are present\n",
        "    #    (Add missing columns with 0 values)\n",
        "    for col in X_train.columns:  # X_train has the expected columns\n",
        "        if col not in person_data.columns:\n",
        "            person_data[col] = 0\n",
        "\n",
        "    # 3. Reorder columns to match the order in training data\n",
        "    person_data = person_data[X_train.columns]\n",
        "\n",
        "    # Now you can safely scale the data:\n",
        "    person_scaled = scaler.transform(person_data)\n",
        "\n",
        "    # Predict stress level using the models\n",
        "    rf_pred = rf_classifier.predict(person_data)[0]\n",
        "    svm_pred = svm_classifier.predict(person_data)[0]\n",
        "    kmeans_pred = kmeans.predict(person_scaled)[0]\n",
        "    xgb_pred = xgb_classifier.predict(person_data)[0]\n",
        "\n",
        "    # Combine predictions using voting (majority voting for categorical output)\n",
        "    predictions = [rf_pred, svm_pred, xgb_pred]\n",
        "    final_pred = max(set(predictions), key=predictions.count)  # Majority voting\n",
        "\n",
        "    # Get stress relief recommendations\n",
        "    recommendation = content_based_recommendation(\n",
        "        stress_level=final_pred,  # Using the combined prediction\n",
        "        physical_activity=physical_activity,\n",
        "        sleep_quality=sleep_duration,\n",
        "        bmi=bmi,\n",
        "        blood_pressure=blood_pressure\n",
        "    )\n",
        "\n",
        "    # Suicide action plan\n",
        "    action_plan = suicide_action_plan(\n",
        "        stress_level=final_pred,  # Using the combined prediction\n",
        "        sleep_quality=sleep_duration,\n",
        "        physical_activity=physical_activity,\n",
        "        daily_steps=daily_steps,\n",
        "        bmi=bmi,\n",
        "        blood_pressure=blood_pressure\n",
        "    )\n",
        "\n",
        "    # Output the results\n",
        "    print(f\"\\nTest for Single Person's Data:\")\n",
        "    print(f\"Gender: {gender}\")\n",
        "    print(f\"Age: {age}\")\n",
        "    print(f\"Sleep Duration: {sleep_duration} hours\")\n",
        "    print(f\"Physical Activity Level: {physical_activity}\")\n",
        "    print(f\"BMI: {bmi}\")\n",
        "    print(f\"Blood Pressure: {blood_pressure} mmHg\")\n",
        "    print(f\"Heart Rate: {heart_rate} bpm\")\n",
        "    print(f\"Daily Steps: {daily_steps}\")\n",
        "    print(f\"Predicted Stress Level (Random Forest): {rf_pred}\")\n",
        "    print(f\"Predicted Stress Level (SVM): {svm_pred}\")\n",
        "    print(f\"Predicted Stress Level (KMeans): {kmeans_pred}\")\n",
        "    print(f\"Predicted Stress Level (XGBoost): {xgb_pred}\")\n",
        "    print(f\"Final Predicted Stress Level (Majority Voting): {final_pred}\")\n",
        "    test_and_predict_stress_level_with_meta_model(gender, age, sleep_duration, physical_activity, bmi, blood_pressure, heart_rate, daily_steps)"
      ],
      "metadata": {
        "id": "FSN8H6uij1MR"
      },
      "execution_count": 209,
      "outputs": []
    },
    {
      "cell_type": "code",
      "source": [
        "def get_base_model_predictions(X_train):\n",
        "    rf_probs = rf_classifier.predict_proba(X_train)\n",
        "    svm_probs = svm_classifier.predict_proba(X_train)\n",
        "    xgb_probs = xgb_classifier.predict_proba(X_train)\n",
        "    # Combine probabilities for the meta-model\n",
        "    meta_features = np.hstack((rf_probs, svm_probs, xgb_probs))\n",
        "    return meta_features"
      ],
      "metadata": {
        "id": "Cv16VSjmBrqf"
      },
      "execution_count": 206,
      "outputs": []
    },
    {
      "cell_type": "code",
      "source": [
        "def test_and_predict_stress_level_with_meta_model(\n",
        "    gender, age, sleep_duration, physical_activity, bmi, blood_pressure, heart_rate, daily_steps\n",
        "):\n",
        "\n",
        "    # Single input data (Modified to match original dataset structure)\n",
        "    person_data = pd.DataFrame({\n",
        "        'Gender': [gender],\n",
        "        'Age': [age],\n",
        "        'Sleep Duration': [sleep_duration],\n",
        "        'Physical Activity Level': [physical_activity],\n",
        "        'BMI': [bmi],\n",
        "        'Blood Pressure': [blood_pressure],\n",
        "        'Heart Rate': [heart_rate],\n",
        "        'Daily Steps': [daily_steps]\n",
        "    })\n",
        "\n",
        "    # Preprocess the input to match training data\n",
        "    person_data = pd.get_dummies(person_data, columns=['Gender'], drop_first=True)\n",
        "\n",
        "    # Add missing columns with 0 values\n",
        "    for col in X_train.columns:\n",
        "        if col not in person_data.columns:\n",
        "            person_data[col] = 0\n",
        "\n",
        "    # Reorder columns to match the training data\n",
        "    person_data = person_data[X_train.columns]\n",
        "\n",
        "    # Scale the input data\n",
        "    person_scaled = scaler.transform(person_data)\n",
        "\n",
        "    # Get predictions from base models\n",
        "    rf_probs = rf_classifier.predict_proba(person_scaled)\n",
        "    svm_probs = svm_classifier.predict_proba(person_scaled)\n",
        "    xgb_probs = xgb_classifier.predict_proba(person_scaled)\n",
        "\n",
        "    # Combine probabilities for the meta-model\n",
        "    meta_features = np.hstack((rf_probs, svm_probs, xgb_probs))\n",
        "\n",
        "    meta_model = LogisticRegression(max_iter=1000, random_state=42)\n",
        "    meta_model.fit(get_base_model_predictions(X_train), y_train)\n",
        "\n",
        "    # Meta-model prediction\n",
        "    meta_pred = meta_model.predict(meta_features)\n",
        "\n",
        "\n",
        "    # Recommendations based on stress level\n",
        "    recommendation = content_based_recommendation(\n",
        "        stress_level=meta_pred[0],  # Use combined prediction\n",
        "        physical_activity=physical_activity,\n",
        "        sleep_quality=sleep_duration,\n",
        "        bmi=bmi,\n",
        "        blood_pressure=blood_pressure\n",
        "    )\n",
        "\n",
        "    # Suicide action plan based on stress level\n",
        "    action_plan = suicide_action_plan(\n",
        "        stress_level=meta_pred[0],  # Use combined prediction\n",
        "        sleep_quality=sleep_duration,\n",
        "        physical_activity=physical_activity,\n",
        "        daily_steps=daily_steps,\n",
        "        bmi=bmi,\n",
        "        blood_pressure=blood_pressure\n",
        "    )\n",
        "\n",
        "    # Output the results\n",
        "    print(f\"\\nMeta Model:\")\n",
        "    print(f\"Predicted Stress Level (Meta-Model): {meta_pred[0]}\")\n",
        "    print(f\"Recommendations: {recommendation}\")\n",
        "    print(f\"Suicide Action Plan: {action_plan}\")\n"
      ],
      "metadata": {
        "id": "54AHBgHjTF_t"
      },
      "execution_count": 208,
      "outputs": []
    },
    {
      "cell_type": "code",
      "source": [
        "test_single_person(\n",
        "    gender='Male',             # Gender: 'Male' or 'Female'\n",
        "    age=24,                    # Age in years\n",
        "    sleep_duration=3.2,          # Sleep Duration in hours\n",
        "    physical_activity=3,       # Physical Activity level (1-10)\n",
        "    bmi=17.2,                    # Body Mass Index\n",
        "    blood_pressure=132,        # Blood Pressure in mmHg (e.g., 120/80)\n",
        "    heart_rate=96,             # Heart Rate in beats per minute\n",
        "    daily_steps=10000           # Daily Steps count\n",
        ")"
      ],
      "metadata": {
        "colab": {
          "base_uri": "https://localhost:8080/"
        },
        "id": "pSUO0Jl4w_WQ",
        "outputId": "d56407fd-2015-4204-a9e4-d367d262daaf"
      },
      "execution_count": 213,
      "outputs": [
        {
          "output_type": "stream",
          "name": "stdout",
          "text": [
            "\n",
            "Test for Single Person's Data:\n",
            "Gender: Male\n",
            "Age: 24\n",
            "Sleep Duration: 3.2 hours\n",
            "Physical Activity Level: 3\n",
            "BMI: 17.2\n",
            "Blood Pressure: 132 mmHg\n",
            "Heart Rate: 96 bpm\n",
            "Daily Steps: 10000\n",
            "Predicted Stress Level (Random Forest): 8\n",
            "Predicted Stress Level (SVM): 8\n",
            "Predicted Stress Level (KMeans): 1\n",
            "Predicted Stress Level (XGBoost): 5\n",
            "Final Predicted Stress Level (Majority Voting): 8\n",
            "\n",
            "Meta Model:\n",
            "Predicted Stress Level (Meta-Model): 5\n",
            "Recommendations: Increase Physical Activity, Morning Walk, Breathing Exercises\n",
            "Suicide Action Plan: Moderate Risk: Practice relaxation techniques, mindfulness, and yoga. Consult a counselor to manage stress.\n"
          ]
        },
        {
          "output_type": "stream",
          "name": "stderr",
          "text": [
            "/usr/local/lib/python3.10/dist-packages/sklearn/utils/validation.py:2739: UserWarning: X does not have valid feature names, but RandomForestClassifier was fitted with feature names\n",
            "  warnings.warn(\n",
            "/usr/local/lib/python3.10/dist-packages/sklearn/utils/validation.py:2739: UserWarning: X does not have valid feature names, but SVC was fitted with feature names\n",
            "  warnings.warn(\n"
          ]
        }
      ]
    }
  ]
}